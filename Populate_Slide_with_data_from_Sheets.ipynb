{
 "cells": [
  {
   "cell_type": "markdown",
   "id": "3c7050f6",
   "metadata": {},
   "source": [
    "# Internship Assignment"
   ]
  },
  {
   "cell_type": "markdown",
   "id": "2d8e8d8d",
   "metadata": {},
   "source": [
    "This is a script for a Python-based prototype that extracts data from a Google Sheet and uses this data to populate a Google Slide.\n",
    "\n",
    "Author: Julia Huilla\n",
    "\n",
    "Preparation:\n",
    "1. Create a Google Sheet 'Employee_Data' with the given employee data\n",
    "2. Create a Google Slide 'Employee_Presentation' with the given template and placeholders\n",
    "3. Create a new project on Google Cloud Platform\n",
    "4. Enable Google Drive API & Google Sheets API & Google Slides API\n",
    "5. Create a service account and download credentials.json\n",
    "6. Share Google Sheet & Google Slide with the service account email address\n",
    "5. Continue with the script (see below)"
   ]
  },
  {
   "cell_type": "markdown",
   "id": "70b44802",
   "metadata": {},
   "source": [
    "## Prerequisites"
   ]
  },
  {
   "cell_type": "code",
   "execution_count": 1,
   "id": "0acff597",
   "metadata": {},
   "outputs": [],
   "source": [
    "# Import the necessary libraries\n",
    "# If not installed use: pip install 'library name'\n",
    "import gspread\n",
    "from google.oauth2 import service_account\n",
    "from googleapiclient.discovery import build\n",
    "import webbrowser"
   ]
  },
  {
   "cell_type": "markdown",
   "id": "d320b7bb",
   "metadata": {},
   "source": [
    "## Autenticate and connect to the Google Sheet"
   ]
  },
  {
   "cell_type": "code",
   "execution_count": 2,
   "id": "f3931c22",
   "metadata": {},
   "outputs": [],
   "source": [
    "# Load the service account credentials for Google Sheet and open the sheet\n",
    "sa = gspread.service_account(filename='credentials.json')\n",
    "sheet = sa.open('Employee_Data')\n",
    "wks = sheet.worksheet('Sheet1')    # This is the worksheet we are working with in the next block"
   ]
  },
  {
   "cell_type": "markdown",
   "id": "6a92a0b6",
   "metadata": {},
   "source": [
    "## Extract information from the Google Sheet"
   ]
  },
  {
   "cell_type": "code",
   "execution_count": 3,
   "id": "c6ffc4df",
   "metadata": {},
   "outputs": [],
   "source": [
    "# Write a function that extracts the necessary information from the Google Sheet\n",
    "def extract_information(name):\n",
    "    name_cells = wks.findall(name)                  # find the cell with the given name\n",
    "    if not name_cells:\n",
    "        print(f\"No matching name found: {name}\")    # if the name is not found print a notification and exit\n",
    "        exit(1)\n",
    "\n",
    "    row_number = name_cells[0].row                  \n",
    "    data = wks.row_values(row_number)               # get the other values from the row where the name was present\n",
    "\n",
    "    # Extract and save the necessary information\n",
    "    id = data[0]\n",
    "    name = data[1]\n",
    "    occupation = data[2]\n",
    "    country = data[3]\n",
    "    age = data[4]\n",
    "\n",
    "    # Call the function to update the Google Slide with the extracted data\n",
    "    write_to_google_slide(slide_id, id, name, country, age, occupation)"
   ]
  },
  {
   "cell_type": "markdown",
   "id": "b5d537ef",
   "metadata": {},
   "source": [
    "## Write data to the Google Slide"
   ]
  },
  {
   "cell_type": "code",
   "execution_count": 4,
   "id": "d79a1065",
   "metadata": {},
   "outputs": [],
   "source": [
    "# Load the service account credentials for Google Slides\n",
    "slides_credentials = service_account.Credentials.from_service_account_file('credentials.json')\n",
    "slides_service = build('slides', 'v1', credentials=slides_credentials)\n",
    "slide_id = '1kIIMyB9DB6X3XNTX0ofYhbV23oshT6lBvfHCecAUH0s'"
   ]
  },
  {
   "cell_type": "code",
   "execution_count": 5,
   "id": "ab5bf4c2",
   "metadata": {},
   "outputs": [],
   "source": [
    "# Create a function to write data to the Google Slide\n",
    "def write_to_google_slide(slide_id, emp_id, emp_name, emp_country, emp_age, emp_occupation):\n",
    "    presentation = slides_service.presentations().get(presentationId=slide_id).execute()\n",
    "    slide_objects = presentation['slides'][0]['pageElements']\n",
    "\n",
    "    # Iterate through the slide objects and populate the placeholders with data\n",
    "    for obj in slide_objects:\n",
    "        if 'shape' in obj and 'text' in obj['shape']:\n",
    "            text = obj['shape']['text']\n",
    "            if 'textElements' in text:\n",
    "                for text_element in text['textElements']:\n",
    "                    if 'textRun' in text_element and 'content' in text_element['textRun']:\n",
    "                        if text_element['textRun']['content'] == '[Placeholder for Name]':\n",
    "                            text_element['textRun']['content'] = emp_name\n",
    "                        elif text_element['textRun']['content'] == '[Placeholder for ID]':\n",
    "                            text_element['textRun']['content'] = emp_id\n",
    "                        elif text_element['textRun']['content'] == '[Placeholder for Occupation]':\n",
    "                            text_element['textRun']['content'] = emp_occupation\n",
    "                        elif text_element['textRun']['content'] == '[Placeholder for Country]':\n",
    "                            text_element['textRun']['content'] = emp_country\n",
    "                        elif text_element['textRun']['content'] == '[Placeholder for Age]':\n",
    "                            text_element['textRun']['content'] = emp_age\n",
    "\n",
    "        # Prepare the requests to update the text content\n",
    "        reqs = [\n",
    "            {'replaceAllText': {\n",
    "                'containsText': {'text': '[Placeholder for Name]'},\n",
    "                'replaceText': emp_name\n",
    "            }},\n",
    "            {'replaceAllText': {\n",
    "                'containsText': {'text': '[Placeholder for ID]'},\n",
    "                'replaceText': emp_id\n",
    "            }},\n",
    "            {'replaceAllText': {\n",
    "                'containsText': {'text': '[Placeholder for Occupation]'},\n",
    "                'replaceText': emp_occupation\n",
    "            }},\n",
    "            {'replaceAllText': {\n",
    "                'containsText': {'text': '[Placeholder for Country]'},\n",
    "                'replaceText': emp_country\n",
    "            }},\n",
    "            {'replaceAllText': {\n",
    "                'containsText': {'text': '[Placeholder for Age]'},\n",
    "                'replaceText': emp_age\n",
    "            }},\n",
    "        ]\n",
    "\n",
    "        # Update the modified slide objects into the presentation\n",
    "        request = slides_service.presentations().batchUpdate(\n",
    "            presentationId=slide_id,\n",
    "            body={\n",
    "                'requests': reqs\n",
    "            }\n",
    "        )\n",
    "        request.execute()"
   ]
  },
  {
   "cell_type": "markdown",
   "id": "652e9c8d",
   "metadata": {},
   "source": [
    "## Show the updated Google Slide"
   ]
  },
  {
   "cell_type": "code",
   "execution_count": 6,
   "id": "dca23ad4",
   "metadata": {},
   "outputs": [],
   "source": [
    "# Open the Google Slide in the browser showing the data from the Google Sheet\n",
    "def open_google_slide(slide_id):\n",
    "    # Construct the presentation URL\n",
    "    slide_url = f\"https://docs.google.com/presentation/d/{slide_id}/edit\"\n",
    "\n",
    "    # Open the slide URL using the default web browser\n",
    "    slides_service.presentations().get(presentationId=slide_id).execute()\n",
    "    print(\"Opening Google Slide...\")\n",
    "    webbrowser.open(slide_url)"
   ]
  },
  {
   "cell_type": "markdown",
   "id": "c55fd0c6",
   "metadata": {},
   "source": [
    "## Call the functions and act based on the user input"
   ]
  },
  {
   "cell_type": "code",
   "execution_count": 7,
   "id": "47754b0c",
   "metadata": {},
   "outputs": [
    {
     "name": "stdout",
     "output_type": "stream",
     "text": [
      "Enter the name to extract information: John Doe\n",
      "Opening Google Slide...\n"
     ]
    }
   ],
   "source": [
    "# Ask the user to enter a name (e.g. John Doe)\n",
    "name_to_extract = input(\"Enter the name to extract information: \")\n",
    "extract_information(name_to_extract)\n",
    "open_google_slide(slide_id)"
   ]
  },
  {
   "cell_type": "markdown",
   "id": "d110d7a2",
   "metadata": {},
   "source": [
    "## Conclusion"
   ]
  },
  {
   "cell_type": "markdown",
   "id": "01cc2005",
   "metadata": {},
   "source": [
    "We can see that the placeholders in the Google Slide are replaced with the data from the Google Sheet.\n",
    "\n",
    "Please note that this is a simple prototype. The prototype should be improved by enabling users to create multiple slides or overwriting the existing slide. At the moment the assigned Google Slide needs to be revoked manually to the default setting (including the placeholders) before a new name can be entered."
   ]
  }
 ],
 "metadata": {
  "kernelspec": {
   "display_name": "Python 3 (ipykernel)",
   "language": "python",
   "name": "python3"
  },
  "language_info": {
   "codemirror_mode": {
    "name": "ipython",
    "version": 3
   },
   "file_extension": ".py",
   "mimetype": "text/x-python",
   "name": "python",
   "nbconvert_exporter": "python",
   "pygments_lexer": "ipython3",
   "version": "3.11.1"
  }
 },
 "nbformat": 4,
 "nbformat_minor": 5
}
